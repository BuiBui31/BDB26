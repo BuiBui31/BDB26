{
 "cells": [
  {
   "cell_type": "markdown",
   "id": "6e3c2fa1",
   "metadata": {},
   "source": [
    "### Clean Data by excluding certain plays"
   ]
  },
  {
   "cell_type": "code",
   "execution_count": 21,
   "id": "726f91ae",
   "metadata": {},
   "outputs": [],
   "source": [
    "#Imports\n",
    "import pandas as pd\n",
    "from pathlib import Path\n",
    "import os\n",
    "import numpy as np\n"
   ]
  },
  {
   "cell_type": "code",
   "execution_count": 22,
   "id": "96fa7bd0",
   "metadata": {},
   "outputs": [
    {
     "name": "stderr",
     "output_type": "stream",
     "text": [
      "/var/folders/rt/hr_9pjyd5sx2kxbz1y6475y40000gn/T/ipykernel_65578/2407125958.py:3: DtypeWarning: Columns (25) have mixed types. Specify dtype option on import or set low_memory=False.\n",
      "  dfPlays = pd.read_csv(f'{projectRoot}/data/supplementary_data.csv')\n"
     ]
    }
   ],
   "source": [
    "#Read in Data\n",
    "projectRoot = Path.cwd()\n",
    "dfPlays = pd.read_csv(f'{projectRoot}/data/supplementary_data.csv')"
   ]
  },
  {
   "cell_type": "code",
   "execution_count": 23,
   "id": "f0960d0d",
   "metadata": {},
   "outputs": [
    {
     "data": {
      "text/plain": [
       "17549"
      ]
     },
     "execution_count": 23,
     "metadata": {},
     "output_type": "execute_result"
    }
   ],
   "source": [
    "#Exclude Penalty Plays\n",
    "dfPlaysWithoutPen = dfPlays[dfPlays[\"penalty_yards\"].isna()]\n",
    "len(dfPlaysWithoutPen)"
   ]
  },
  {
   "cell_type": "code",
   "execution_count": 24,
   "id": "fc21ea1e",
   "metadata": {},
   "outputs": [],
   "source": [
    "#Save cleaned\n",
    "os.makedirs(\"cleanedData\", exist_ok=True)\n",
    "dfPlaysWithoutPen.to_csv(\"cleanedData/dfPlaysWithoutPen.csv\", index=False)"
   ]
  },
  {
   "cell_type": "markdown",
   "id": "c76baa3e",
   "metadata": {},
   "source": [
    "### Clean cordiante data"
   ]
  },
  {
   "cell_type": "code",
   "execution_count": 25,
   "id": "aaefab8d",
   "metadata": {},
   "outputs": [],
   "source": [
    "dataPath = f\"{Path.cwd()}/data/train\"\n",
    "savePath = f\"{Path.cwd()}/cleanedData/train\""
   ]
  },
  {
   "cell_type": "code",
   "execution_count": 26,
   "id": "df98fc9e",
   "metadata": {},
   "outputs": [],
   "source": [
    "def rotateLeft180(df,\n",
    "                  xCol=\"x\", yCol=\"y\",\n",
    "                  dirCol=\"dir\", oCol=\"o\",\n",
    "                  playDirectionCol=\"play_direction\"):\n",
    "    df = df.copy()\n",
    "    flip = df[playDirectionCol].eq(\"left\")\n",
    "\n",
    "    # positions (rotate about center)\n",
    "    df.loc[flip, xCol] = 120 - df.loc[flip, xCol]\n",
    "    df.loc[flip, yCol] = 53.3 - df.loc[flip, yCol]\n",
    "\n",
    "    # angles (0° right, clockwise)\n",
    "    if dirCol in df.columns:\n",
    "        df.loc[flip, dirCol] = (df.loc[flip, dirCol] + 180) % 360\n",
    "    if oCol in df.columns:\n",
    "        df.loc[flip, oCol]   = (df.loc[flip, oCol]   + 180) % 360\n",
    "    \n",
    "    df.loc[flip, playDirectionCol] = \"right\"\n",
    "    return df"
   ]
  },
  {
   "cell_type": "code",
   "execution_count": null,
   "id": "f09af1dc",
   "metadata": {},
   "outputs": [],
   "source": [
    "def orientSeason(inputDir=\".\", outputDir=\"cleanedData\",\n",
    "                 inPattern=\"input_2023_w{week:02d}.csv\",\n",
    "                 outPattern=\"input_oriented_2023_w{week:02d}.csv\",\n",
    "                 xCol=\"x\", yCol=\"y\", dirCol=\"dir\", oCol=\"o\",\n",
    "                 playDirectionCol=\"play_direction\",\n",
    "                 otherInPattern=\"output_2023_w{week:02d}.csv\",\n",
    "                 otherOutPattern=\"output_oriented_2023_w{week:02d}.csv\",\n",
    "                 ballLandXCol=\"ball_land_x\",\n",
    "                 ballLandYCol=\"ball_land_y\"):\n",
    "    inputDir = Path(inputDir)\n",
    "    outputDir = Path(outputDir)\n",
    "    outputDir.mkdir(parents=True, exist_ok=True)\n",
    "    \n",
    "    for week in range(1, 19):\n",
    "        inPath = inputDir / inPattern.format(week=week)\n",
    "        if not inPath.exists():\n",
    "            print(f\"[w{week:02d}] SKIP: {inPath} not found.\")\n",
    "            continue\n",
    "\n",
    "        print(f\"[w{week:02d}] Reading {inPath.name} ...\")\n",
    "        df = pd.read_csv(inPath)\n",
    "\n",
    "        # rows to flip from the main file (left plays)\n",
    "        flipMask = df[playDirectionCol].astype(str).str.lower().eq(\"left\") if playDirectionCol in df.columns else pd.Series(False, index=df.index)\n",
    "        toFlip = df.loc[flipMask, [\"game_id\", \"play_id\"]].drop_duplicates()\n",
    "        flipKeys = set(map(tuple, toFlip.itertuples(index=False, name=None))) \n",
    "\n",
    "        # --- NEW: rotate ball landing coords ONLY for the first files\n",
    "        if flipMask.any():\n",
    "            if ballLandXCol in df.columns:\n",
    "                df.loc[flipMask, ballLandXCol] = 120 - pd.to_numeric(df.loc[flipMask, ballLandXCol])\n",
    "            if ballLandYCol in df.columns:\n",
    "                df.loc[flipMask, ballLandYCol] = 53.3 - pd.to_numeric(df.loc[flipMask, ballLandYCol])\n",
    "\n",
    "        # rotate left -> right in the main file (as you already had)\n",
    "        beforeLeft = flipMask.sum()\n",
    "        dfOut = rotateLeft180(df, xCol=xCol, yCol=yCol, dirCol=dirCol, oCol=oCol, playDirectionCol=playDirectionCol)\n",
    "\n",
    "        outPath = outputDir / outPattern.format(week=week)  # e.g., oriented_2023_w06.csv\n",
    "        dfOut.to_csv(outPath, index=False)\n",
    "        afterLeft = dfOut[playDirectionCol].astype(str).str.lower().eq(\"left\").sum()\n",
    "        print(f\"[w{week:02d}] Wrote {outPath.name} | left->right rows fixed: {beforeLeft} | remaining left: {afterLeft}\")\n",
    "\n",
    "        # --- Apply same flips to the OTHER file if it exists ---\n",
    "        otherInPath = inputDir / otherInPattern.format(week=week)\n",
    "        if otherInPath.exists() and flipKeys:\n",
    "            print(f\"[w{week:02d}] Also orienting {otherInPath.name} using toFlip pairs ...\")\n",
    "            dfOther = pd.read_csv(otherInPath)\n",
    "\n",
    "            # synthesize/override play_direction based on toFlip pairs\n",
    "            tempCol = None\n",
    "            if playDirectionCol not in dfOther.columns:\n",
    "                tempCol = f\"__{playDirectionCol}__\"\n",
    "                dfOther[tempCol] = \"right\"\n",
    "                dfOther.loc[list(map(lambda gp: gp in flipKeys, zip(dfOther[\"game_id\"], dfOther[\"play_id\"]))), tempCol] = \"left\"\n",
    "                usePlayDirCol = tempCol\n",
    "            else:\n",
    "                usePlayDirCol = playDirectionCol\n",
    "                mask = list(map(lambda gp: gp in flipKeys, zip(dfOther[\"game_id\"], dfOther[\"play_id\"])))\n",
    "                dfOther.loc[mask, usePlayDirCol] = \"left\"\n",
    "\n",
    "            # rotate using the column we just prepared\n",
    "            dfOtherOut = rotateLeft180(dfOther, xCol=xCol, yCol=yCol, dirCol=dirCol, oCol=oCol, playDirectionCol=usePlayDirCol)\n",
    "\n",
    "            # set all rows to right in the output (optional but common)\n",
    "            dfOtherOut[playDirectionCol] = \"right\"\n",
    "\n",
    "            # drop the temp column if we created one\n",
    "            if tempCol is not None and tempCol in dfOtherOut.columns:\n",
    "                dfOtherOut = dfOtherOut.drop(columns=[tempCol])\n",
    "\n",
    "            otherOutPath = outputDir / otherOutPattern.format(week=week)  # e.g., output_oriented_2023_w06.csv\n",
    "            dfOtherOut.to_csv(otherOutPath, index=False)\n",
    "            print(f\"[w{week:02d}] Wrote {otherOutPath.name} | used {len(flipKeys)} (game_id, play_id) pairs to rotate.\")\n",
    "        else:\n",
    "            if not otherInPath.exists():\n",
    "                print(f\"[w{week:02d}] (other) SKIP: {otherInPath} not found.\")\n",
    "            else:\n",
    "                print(f\"[w{week:02d}] (other) No left plays to flip for this week.\")"
   ]
  },
  {
   "cell_type": "code",
   "execution_count": 28,
   "id": "4703f55a",
   "metadata": {},
   "outputs": [
    {
     "name": "stdout",
     "output_type": "stream",
     "text": [
      "[w01] Reading input_2023_w01.csv ...\n",
      "[w01] Wrote oriented_2023_w01.csv | left->right rows fixed: 133495 | remaining left: 0\n",
      "[w01] Also orienting output_2023_w01.csv using toFlip pairs ...\n",
      "[w01] Wrote output_oriented_2023_w01.csv | used 388 (game_id, play_id) pairs to rotate.\n",
      "[w02] Reading input_2023_w02.csv ...\n",
      "[w02] Wrote oriented_2023_w02.csv | left->right rows fixed: 129919 | remaining left: 0\n",
      "[w02] Also orienting output_2023_w02.csv using toFlip pairs ...\n",
      "[w02] Wrote output_oriented_2023_w02.csv | used 393 (game_id, play_id) pairs to rotate.\n",
      "[w03] Reading input_2023_w03.csv ...\n",
      "[w03] Wrote oriented_2023_w03.csv | left->right rows fixed: 161661 | remaining left: 0\n",
      "[w03] Also orienting output_2023_w03.csv using toFlip pairs ...\n",
      "[w03] Wrote output_oriented_2023_w03.csv | used 486 (game_id, play_id) pairs to rotate.\n",
      "[w04] Reading input_2023_w04.csv ...\n",
      "[w04] Wrote oriented_2023_w04.csv | left->right rows fixed: 117773 | remaining left: 0\n",
      "[w04] Also orienting output_2023_w04.csv using toFlip pairs ...\n",
      "[w04] Wrote output_oriented_2023_w04.csv | used 336 (game_id, play_id) pairs to rotate.\n",
      "[w05] Reading input_2023_w05.csv ...\n",
      "[w05] Wrote oriented_2023_w05.csv | left->right rows fixed: 119465 | remaining left: 0\n",
      "[w05] Also orienting output_2023_w05.csv using toFlip pairs ...\n",
      "[w05] Wrote output_oriented_2023_w05.csv | used 345 (game_id, play_id) pairs to rotate.\n",
      "[w06] Reading input_2023_w06.csv ...\n",
      "[w06] Wrote oriented_2023_w06.csv | left->right rows fixed: 136847 | remaining left: 0\n",
      "[w06] Also orienting output_2023_w06.csv using toFlip pairs ...\n",
      "[w06] Wrote output_oriented_2023_w06.csv | used 402 (game_id, play_id) pairs to rotate.\n",
      "[w07] Reading input_2023_w07.csv ...\n",
      "[w07] Wrote oriented_2023_w07.csv | left->right rows fixed: 116377 | remaining left: 0\n",
      "[w07] Also orienting output_2023_w07.csv using toFlip pairs ...\n",
      "[w07] Wrote output_oriented_2023_w07.csv | used 340 (game_id, play_id) pairs to rotate.\n",
      "[w08] Reading input_2023_w08.csv ...\n",
      "[w08] Wrote oriented_2023_w08.csv | left->right rows fixed: 142353 | remaining left: 0\n",
      "[w08] Also orienting output_2023_w08.csv using toFlip pairs ...\n",
      "[w08] Wrote output_oriented_2023_w08.csv | used 417 (game_id, play_id) pairs to rotate.\n",
      "[w09] Reading input_2023_w09.csv ...\n",
      "[w09] Wrote oriented_2023_w09.csv | left->right rows fixed: 127784 | remaining left: 0\n",
      "[w09] Also orienting output_2023_w09.csv using toFlip pairs ...\n",
      "[w09] Wrote output_oriented_2023_w09.csv | used 361 (game_id, play_id) pairs to rotate.\n",
      "[w10] Reading input_2023_w10.csv ...\n",
      "[w10] Wrote oriented_2023_w10.csv | left->right rows fixed: 128696 | remaining left: 0\n",
      "[w10] Also orienting output_2023_w10.csv using toFlip pairs ...\n",
      "[w10] Wrote output_oriented_2023_w10.csv | used 368 (game_id, play_id) pairs to rotate.\n",
      "[w11] Reading input_2023_w11.csv ...\n",
      "[w11] Wrote oriented_2023_w11.csv | left->right rows fixed: 130184 | remaining left: 0\n",
      "[w11] Also orienting output_2023_w11.csv using toFlip pairs ...\n",
      "[w11] Wrote output_oriented_2023_w11.csv | used 377 (game_id, play_id) pairs to rotate.\n",
      "[w12] Reading input_2023_w12.csv ...\n",
      "[w12] Wrote oriented_2023_w12.csv | left->right rows fixed: 149665 | remaining left: 0\n",
      "[w12] Also orienting output_2023_w12.csv using toFlip pairs ...\n",
      "[w12] Wrote output_oriented_2023_w12.csv | used 423 (game_id, play_id) pairs to rotate.\n",
      "[w13] Reading input_2023_w13.csv ...\n",
      "[w13] Wrote oriented_2023_w13.csv | left->right rows fixed: 109649 | remaining left: 0\n",
      "[w13] Also orienting output_2023_w13.csv using toFlip pairs ...\n",
      "[w13] Wrote output_oriented_2023_w13.csv | used 317 (game_id, play_id) pairs to rotate.\n",
      "[w14] Reading input_2023_w14.csv ...\n",
      "[w14] Wrote oriented_2023_w14.csv | left->right rows fixed: 150248 | remaining left: 0\n",
      "[w14] Also orienting output_2023_w14.csv using toFlip pairs ...\n",
      "[w14] Wrote output_oriented_2023_w14.csv | used 424 (game_id, play_id) pairs to rotate.\n",
      "[w15] Reading input_2023_w15.csv ...\n",
      "[w15] Wrote oriented_2023_w15.csv | left->right rows fixed: 125009 | remaining left: 0\n",
      "[w15] Also orienting output_2023_w15.csv using toFlip pairs ...\n",
      "[w15] Wrote output_oriented_2023_w15.csv | used 350 (game_id, play_id) pairs to rotate.\n",
      "[w16] Reading input_2023_w16.csv ...\n",
      "[w16] Wrote oriented_2023_w16.csv | left->right rows fixed: 163254 | remaining left: 0\n",
      "[w16] Also orienting output_2023_w16.csv using toFlip pairs ...\n",
      "[w16] Wrote output_oriented_2023_w16.csv | used 454 (game_id, play_id) pairs to rotate.\n",
      "[w17] Reading input_2023_w17.csv ...\n",
      "[w17] Wrote oriented_2023_w17.csv | left->right rows fixed: 149308 | remaining left: 0\n",
      "[w17] Also orienting output_2023_w17.csv using toFlip pairs ...\n",
      "[w17] Wrote output_oriented_2023_w17.csv | used 429 (game_id, play_id) pairs to rotate.\n",
      "[w18] Reading input_2023_w18.csv ...\n",
      "[w18] Wrote oriented_2023_w18.csv | left->right rows fixed: 129818 | remaining left: 0\n",
      "[w18] Also orienting output_2023_w18.csv using toFlip pairs ...\n",
      "[w18] Wrote output_oriented_2023_w18.csv | used 381 (game_id, play_id) pairs to rotate.\n"
     ]
    }
   ],
   "source": [
    "orientSeason(\n",
    "    inputDir = dataPath,\n",
    "    outputDir = savePath, \n",
    "    inPattern=\"input_2023_w{week:02d}.csv\",\n",
    "    outPattern=\"oriented_2023_w{week:02d}.csv\",\n",
    "    xCol=\"x\", yCol=\"y\", dirCol=\"dir\", oCol=\"o\",\n",
    "    playDirectionCol=\"play_direction\"\n",
    ")"
   ]
  },
  {
   "cell_type": "code",
   "execution_count": null,
   "id": "d82a45e6",
   "metadata": {},
   "outputs": [],
   "source": []
  }
 ],
 "metadata": {
  "kernelspec": {
   "display_name": "base",
   "language": "python",
   "name": "python3"
  },
  "language_info": {
   "codemirror_mode": {
    "name": "ipython",
    "version": 3
   },
   "file_extension": ".py",
   "mimetype": "text/x-python",
   "name": "python",
   "nbconvert_exporter": "python",
   "pygments_lexer": "ipython3",
   "version": "3.12.2"
  }
 },
 "nbformat": 4,
 "nbformat_minor": 5
}
